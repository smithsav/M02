{
 "cells": [
  {
   "cell_type": "markdown",
   "id": "ee59ecc6-a6d4-4f6b-afc2-ed5e42c65eca",
   "metadata": {},
   "source": [
    "# Savannah Smith\n",
    "# M02 Lab - Case Study: if ... else and while\n",
    "# This Python app will accept student names and GPAs and test if the student qualifies for either the Dean's List or the Honor Roll.''"
   ]
  },
  {
   "cell_type": "code",
   "execution_count": 2,
   "id": "9b52f784-be12-4ffa-aa95-690365f54778",
   "metadata": {},
   "outputs": [
    {
     "name": "stdin",
     "output_type": "stream",
     "text": [
      "Enter student's last name (or 'ZZZ' to quit):  Smith\n",
      "Enter student's first name:  Dan\n",
      "Enter student's GPA:  2.5\n"
     ]
    },
    {
     "name": "stdout",
     "output_type": "stream",
     "text": [
      "Dan Smith does not qualify for any honors.\n",
      "\n"
     ]
    },
    {
     "name": "stdin",
     "output_type": "stream",
     "text": [
      "Enter student's last name (or 'ZZZ' to quit):  Thompson\n",
      "Enter student's first name:  Jackie\n",
      "Enter student's GPA:  2.4\n"
     ]
    },
    {
     "name": "stdout",
     "output_type": "stream",
     "text": [
      "Jackie Thompson does not qualify for any honors.\n",
      "\n"
     ]
    },
    {
     "name": "stdin",
     "output_type": "stream",
     "text": [
      "Enter student's last name (or 'ZZZ' to quit):  Adams\n",
      "Enter student's first name:  Adam\n",
      "Enter student's GPA:  4.0\n"
     ]
    },
    {
     "name": "stdout",
     "output_type": "stream",
     "text": [
      "Adam Adams has made the Dean's List.\n",
      "\n"
     ]
    },
    {
     "name": "stdin",
     "output_type": "stream",
     "text": [
      "Enter student's last name (or 'ZZZ' to quit):  Jackson\n",
      "Enter student's first name:  Suzie\n",
      "Enter student's GPA:  3.7\n"
     ]
    },
    {
     "name": "stdout",
     "output_type": "stream",
     "text": [
      "Suzie Jackson has made the Dean's List.\n",
      "\n"
     ]
    },
    {
     "name": "stdin",
     "output_type": "stream",
     "text": [
      "Enter student's last name (or 'ZZZ' to quit):  Smith\n",
      "Enter student's first name:  Jeff\n",
      "Enter student's GPA:  3.3\n"
     ]
    },
    {
     "name": "stdout",
     "output_type": "stream",
     "text": [
      "Jeff Smith has made the Honor Roll.\n",
      "\n"
     ]
    },
    {
     "name": "stdin",
     "output_type": "stream",
     "text": [
      "Enter student's last name (or 'ZZZ' to quit):  ZZZ\n"
     ]
    },
    {
     "name": "stdout",
     "output_type": "stream",
     "text": [
      "Exiting program...\n"
     ]
    }
   ],
   "source": [
    "def main():\n",
    "    while True:\n",
    "        last_name = input(\"Enter student's last name (or 'ZZZ' to quit): \") # Asking user for Last Name or to quit the program\n",
    "        if last_name == 'ZZZ':\n",
    "            print(\"Exiting program...\")\n",
    "            break\n",
    "        \n",
    "        first_name = input(\"Enter student's first name: \") # Asking user for First Name\n",
    "        gpa = float(input(\"Enter student's GPA: \")) # Asking user for GPA (float includes number with decimal)\n",
    "        \n",
    "        if gpa >= 3.5: # Check if GPA is a 3.5 or above (deans list)\n",
    "            print(f\"{first_name} {last_name} has made the Dean's List.\")\n",
    "\n",
    "        elif gpa >= 3.25: # Check if GPA is a 3.25 or greater (honor roll)\n",
    "            print(f\"{first_name} {last_name} has made the Honor Roll.\")\n",
    "\n",
    "        else: # If not greater or equal to 3.5 OR 3.25 (does not qualifu for honors or deans list)\n",
    "            print(f\"{first_name} {last_name} does not qualify for any honors.\")\n",
    "        print()  # Just for spacing when restarting \n",
    "\n",
    "\n",
    "if __name__ == \"__main__\":\n",
    "    main()"
   ]
  },
  {
   "cell_type": "code",
   "execution_count": null,
   "id": "6ed4b112-47c2-4e18-ab96-41430af2efea",
   "metadata": {},
   "outputs": [],
   "source": []
  }
 ],
 "metadata": {
  "kernelspec": {
   "display_name": "Python 3 (ipykernel)",
   "language": "python",
   "name": "python3"
  },
  "language_info": {
   "codemirror_mode": {
    "name": "ipython",
    "version": 3
   },
   "file_extension": ".py",
   "mimetype": "text/x-python",
   "name": "python",
   "nbconvert_exporter": "python",
   "pygments_lexer": "ipython3",
   "version": "3.11.7"
  }
 },
 "nbformat": 4,
 "nbformat_minor": 5
}
