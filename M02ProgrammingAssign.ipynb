{
 "cells": [
  {
   "cell_type": "markdown",
   "id": "b66ddbe5-ab61-4847-a03e-f873319f91a4",
   "metadata": {},
   "source": [
    "# Savannah Smith\n",
    "# Loops and Conditions "
   ]
  },
  {
   "cell_type": "markdown",
   "id": "7cb8b0e3-5bfa-4f41-aeba-017f360782c9",
   "metadata": {},
   "source": [
    "# 4.1\n",
    "Choose a number between 1 and 10 and assign it to the variable secret. Then, select another number between 1 and 10 and assign it to the variable guess. Next, write the conditional tests (if, else, and elif) to print the string 'too low' if guess is less than secret, 'too high' if greater than secret, and 'just right' if equal to secret."
   ]
  },
  {
   "cell_type": "code",
   "execution_count": 8,
   "id": "4b65482d-b29a-44e6-8f4a-794c1f142463",
   "metadata": {},
   "outputs": [
    {
     "name": "stdout",
     "output_type": "stream",
     "text": [
      "too low\n"
     ]
    }
   ],
   "source": [
    "secret = 7\n",
    "guess = 3\n",
    "\n",
    "if guess < secret:\n",
    "    print (\"too low\")\n",
    "elif guess > secret:\n",
    "    print (\"too high\")\n",
    "else: \n",
    "    print (\"just right\")"
   ]
  },
  {
   "cell_type": "markdown",
   "id": "35f1e06a-5cd4-462e-b228-df7d2de4db64",
   "metadata": {},
   "source": [
    "# 4.2\n",
    "Assign True or False to the variables small and green. Write some if/else statements to print which of these matches those choices: cherry, pea, watermelon, pumpkin."
   ]
  },
  {
   "cell_type": "code",
   "execution_count": 9,
   "id": "6a051e97-815e-4b42-9390-9923b9b66a94",
   "metadata": {},
   "outputs": [
    {
     "name": "stdout",
     "output_type": "stream",
     "text": [
      "That's a pea!\n"
     ]
    }
   ],
   "source": [
    "small = True\n",
    "green = True \n",
    "\n",
    "if small and green:\n",
    "    print (\"That's a pea!\")\n",
    "elif small and not green:\n",
    "    print (\"That's a cherry!\")\n",
    "elif not small and green:\n",
    "    print (\"That's a watermellon!\")\n",
    "else:\n",
    "    print (\"That's a pumpkin!\")"
   ]
  },
  {
   "cell_type": "markdown",
   "id": "1f904128-359e-491f-bc26-865310ea16f9",
   "metadata": {},
   "source": [
    "# 6.1\n",
    "Use a for loop to print the values of the list [3, 2, 1, 0]."
   ]
  },
  {
   "cell_type": "code",
   "execution_count": 12,
   "id": "70022ab6-91d9-4c97-832b-36d88d239e60",
   "metadata": {},
   "outputs": [
    {
     "name": "stdout",
     "output_type": "stream",
     "text": [
      "3\n",
      "2\n",
      "1\n",
      "0\n"
     ]
    }
   ],
   "source": [
    "list = [3, 2, 1, 0]\n",
    "\n",
    "for value in list:\n",
    "    print(value)"
   ]
  },
  {
   "cell_type": "markdown",
   "id": "da7e2ed4-24c9-4a73-88a1-d4803e8a336b",
   "metadata": {},
   "source": [
    "# 6.2\n",
    "Assign the value 7 to the variable guess_me, and the value 1 to the variable number. Write a while loop that compares number with guess_me. Print 'too low' if number is less than guess me. If number equals guess_me, print 'found it!' and then exit the loop. If number is greater than guess_me, print 'oops' and then exit the loop. Increment number at the end of the loop."
   ]
  },
  {
   "cell_type": "code",
   "execution_count": 13,
   "id": "4e628c4c-cad1-423e-8ba6-22205993a948",
   "metadata": {},
   "outputs": [
    {
     "name": "stdout",
     "output_type": "stream",
     "text": [
      "too low\n",
      "too low\n",
      "too low\n",
      "too low\n",
      "too low\n",
      "too low\n",
      "found it!\n"
     ]
    }
   ],
   "source": [
    "guess_me = 7\n",
    "number = 1\n",
    "\n",
    "while True:\n",
    "    if number < guess_me:\n",
    "        print (\"too low\")\n",
    "    elif number == guess_me:\n",
    "        print (\"found it!\")\n",
    "        break \n",
    "    else:\n",
    "        print (\"oops\")\n",
    "        break\n",
    "    number += 1"
   ]
  },
  {
   "cell_type": "markdown",
   "id": "96ac0133-594e-452d-9e94-73863f14a3ae",
   "metadata": {},
   "source": [
    "# 6.3 \n",
    "Assign the value 5 to the variable guess_me. Use a for loop to iterate a variable called number over range(10). If number is less than guess_me, print 'too low'. If it equals guess_me, print found it! and then break out of the for loop. If number is greater than guess_me, print 'oops' and then exit the loop."
   ]
  },
  {
   "cell_type": "code",
   "execution_count": 14,
   "id": "a7d4bf9c-92fb-48c2-8d67-6d07dceed5a5",
   "metadata": {},
   "outputs": [
    {
     "name": "stdout",
     "output_type": "stream",
     "text": [
      "too low\n",
      "too low\n",
      "too low\n",
      "too low\n",
      "too low\n",
      "Found it!\n"
     ]
    }
   ],
   "source": [
    "guess_me = 5\n",
    "\n",
    "for number in range(10):\n",
    "    if number < guess_me:\n",
    "        print(\"too low\")\n",
    "    elif number == guess_me:\n",
    "        print(\"Found it!\")\n",
    "        break\n",
    "    else:\n",
    "        print(\"oops\")\n",
    "        break"
   ]
  }
 ],
 "metadata": {
  "kernelspec": {
   "display_name": "Python 3 (ipykernel)",
   "language": "python",
   "name": "python3"
  },
  "language_info": {
   "codemirror_mode": {
    "name": "ipython",
    "version": 3
   },
   "file_extension": ".py",
   "mimetype": "text/x-python",
   "name": "python",
   "nbconvert_exporter": "python",
   "pygments_lexer": "ipython3",
   "version": "3.11.7"
  }
 },
 "nbformat": 4,
 "nbformat_minor": 5
}
